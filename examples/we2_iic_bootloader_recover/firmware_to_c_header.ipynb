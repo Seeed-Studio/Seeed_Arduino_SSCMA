{
 "cells": [
  {
   "cell_type": "code",
   "execution_count": null,
   "metadata": {},
   "outputs": [],
   "source": [
    "import os\n",
    "import time"
   ]
  },
  {
   "cell_type": "code",
   "execution_count": null,
   "metadata": {},
   "outputs": [],
   "source": [
    "# Please specify the firmware path\n",
    "firmware_path = \"output.img\"\n",
    "\n",
    "with open(firmware_path, \"rb\") as f:\n",
    "    firmware = f.read()"
   ]
  },
  {
   "cell_type": "code",
   "execution_count": null,
   "metadata": {},
   "outputs": [],
   "source": [
    "# convert firmware to C header file\n",
    "firmware = list(firmware)\n",
    "c_header = \"#ifndef __WE2_FIRMWARE_H__\\n#define __WE2_FIRMWARE_H__\\n\\n\"\n",
    "c_header += \"// Generate date: \"\n",
    "c_header += time.strftime(\"%Y-%m-%d %H:%M:%S\")\n",
    "c_header += \"\\n\\n#include <stdint.h>\\n\\n\"\n",
    "c_header += \"static const uint8_t firmware[] = {\\n\"\n",
    "for i in range(0, len(firmware), 16):\n",
    "    c_header += \"    \"\n",
    "    for j in range(16):\n",
    "        if i + j < len(firmware):\n",
    "            c_header += f\"0x{firmware[i+j]:02X}, \"\n",
    "    c_header += \"\\n\"\n",
    "c_header += \"};\"\n",
    "c_header += f\"\\nstatic const size_t firmware_len = {len(firmware)};\"\n",
    "c_header += \"\\n\\n#endif\\n\""
   ]
  },
  {
   "cell_type": "code",
   "execution_count": null,
   "metadata": {},
   "outputs": [],
   "source": [
    "# save C header file\n",
    "with open(os.path.join(os.path.dirname(firmware_path), \"firmware.h\"), \"w\") as f:\n",
    "    f.write(c_header)"
   ]
  },
  {
   "cell_type": "code",
   "execution_count": null,
   "metadata": {},
   "outputs": [],
   "source": []
  }
 ],
 "metadata": {
  "kernelspec": {
   "display_name": "Python 3",
   "language": "python",
   "name": "python3"
  },
  "language_info": {
   "codemirror_mode": {
    "name": "ipython",
    "version": 3
   },
   "file_extension": ".py",
   "mimetype": "text/x-python",
   "name": "python",
   "nbconvert_exporter": "python",
   "pygments_lexer": "ipython3",
   "version": "3.10.13"
  }
 },
 "nbformat": 4,
 "nbformat_minor": 2
}
